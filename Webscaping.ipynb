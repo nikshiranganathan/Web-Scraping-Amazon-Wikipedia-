{
 "cells": [
  {
   "cell_type": "markdown",
   "id": "0aff904d",
   "metadata": {},
   "source": [
    "# WEBSCRAPING - INTRODUCTION"
   ]
  },
  {
   "cell_type": "code",
   "execution_count": null,
   "id": "e7afd232",
   "metadata": {},
   "outputs": [],
   "source": [
    "# Installing packages - one to read and navigate HTML content easily (BeautifulSoup) and getting web pages from the internet (requests)\n",
    "from bs4 import BeautifulSoup\n",
    "import requests"
   ]
  },
  {
   "cell_type": "code",
   "execution_count": null,
   "id": "15007a73",
   "metadata": {},
   "outputs": [],
   "source": [
    "# Defining the URL of the website you want to scrape\n",
    "url ='https://www.scrapethissite.com/pages/ajax-javascript/#2015'"
   ]
  },
  {
   "cell_type": "code",
   "execution_count": null,
   "id": "b0885b3f",
   "metadata": {},
   "outputs": [],
   "source": [
    "page = requests.get(url) \n",
    "page\n",
    "# response 404 : Server cannot be found\n",
    "# response 204 : No content on the web page\n",
    "# repsonse 100 : bad request\n",
    "# response 200 : OK – The request has succeeded"
   ]
  },
  {
   "cell_type": "code",
   "execution_count": null,
   "id": "71a4a7a3",
   "metadata": {},
   "outputs": [],
   "source": [
    "soup = BeautifulSoup(page.text , 'html')"
   ]
  },
  {
   "cell_type": "code",
   "execution_count": null,
   "id": "fdaa88aa",
   "metadata": {},
   "outputs": [],
   "source": [
    " # Printing the raw HTML content of the page\n",
    "print(soup)\n",
    "\n",
    "# For below code - <title>: title of the webpage, <meta name=\"description\">: brief description of the page's content, <ul class=\"nav nav-tabs\"> - navigation bar with tabs, <table class=\"table\"> - table in web page"
   ]
  },
  {
   "cell_type": "code",
   "execution_count": null,
   "id": "72f650c0",
   "metadata": {},
   "outputs": [],
   "source": [
    "# Printing the HTML content of the page formatted nicely\n",
    "print(soup.prettify())"
   ]
  },
  {
   "cell_type": "markdown",
   "id": "58b1fcc3",
   "metadata": {},
   "source": [
    "# WEBSCRAPING - WIKIPEDIA (THE WORLD'S BILLIONAIRES)"
   ]
  },
  {
   "cell_type": "code",
   "execution_count": null,
   "id": "61585599",
   "metadata": {},
   "outputs": [],
   "source": [
    "# Installing packages\n",
    "from bs4 import BeautifulSoup\n",
    "import requests"
   ]
  },
  {
   "cell_type": "code",
   "execution_count": null,
   "id": "15bf49f9",
   "metadata": {},
   "outputs": [],
   "source": [
    "url = 'https://en.wikipedia.org/wiki/The_World%27s_Billionaires'\n",
    "\n",
    "page = requests.get(url)\n",
    "page"
   ]
  },
  {
   "cell_type": "code",
   "execution_count": null,
   "id": "2289d352",
   "metadata": {},
   "outputs": [],
   "source": [
    "soup = BeautifulSoup(page.text, 'html')"
   ]
  },
  {
   "cell_type": "code",
   "execution_count": null,
   "id": "3cb1152f",
   "metadata": {},
   "outputs": [],
   "source": [
    "print(soup)"
   ]
  },
  {
   "cell_type": "code",
   "execution_count": null,
   "id": "8270e947",
   "metadata": {},
   "outputs": [],
   "source": [
    "# find() is used to locate particular elements in HTML doc. We are finding table in this case\n",
    "# find() function gets the first match\n",
    "soup.find('table')"
   ]
  },
  {
   "cell_type": "code",
   "execution_count": null,
   "id": "4225115f",
   "metadata": {},
   "outputs": [],
   "source": [
    "# While find_all() function collects all matches, Extracts all occurrences of the third table element\n",
    "soup.find_all('table')[2]"
   ]
  },
  {
   "cell_type": "code",
   "execution_count": null,
   "id": "ffe28021",
   "metadata": {},
   "outputs": [],
   "source": [
    "# Finds the first table element with the class \"wikitable sortable\" \n",
    "soup.find('table', class_ = 'wikitable sortable')"
   ]
  },
  {
   "cell_type": "code",
   "execution_count": null,
   "id": "4c8c7f43",
   "metadata": {},
   "outputs": [],
   "source": [
    "table_3rd = soup.find_all('table')[2]"
   ]
  },
  {
   "cell_type": "code",
   "execution_count": null,
   "id": "56638501",
   "metadata": {},
   "outputs": [],
   "source": [
    "print(table_3rd)\n",
    "\n",
    "# In the below code, <th> stands for table header, <td>: Stands for table data, <tr> stands for table row"
   ]
  },
  {
   "cell_type": "code",
   "execution_count": null,
   "id": "eb98b3ec",
   "metadata": {},
   "outputs": [],
   "source": [
    "# Finding all the headings in the 3rd table\n",
    "world_billionaires = table_3rd.find_all('th')"
   ]
  },
  {
   "cell_type": "code",
   "execution_count": null,
   "id": "fc390797",
   "metadata": {},
   "outputs": [],
   "source": [
    "world_billionaires"
   ]
  },
  {
   "cell_type": "code",
   "execution_count": null,
   "id": "0af388e3",
   "metadata": {},
   "outputs": [],
   "source": [
    "# Extracting the text content with '.text' and removing whitespace with '.strip()''\n",
    "world_table_billionaires = [title.text.strip() for title in world_billionaires]\n",
    "\n",
    "print(world_table_billionaires)"
   ]
  },
  {
   "cell_type": "code",
   "execution_count": null,
   "id": "aebe0a49",
   "metadata": {},
   "outputs": [],
   "source": [
    "import pandas as pd"
   ]
  },
  {
   "cell_type": "code",
   "execution_count": null,
   "id": "68bbc71b",
   "metadata": {},
   "outputs": [],
   "source": [
    "df = pd.DataFrame(columns = world_table_billionaires)\n",
    "\n",
    "df"
   ]
  },
  {
   "cell_type": "code",
   "execution_count": null,
   "id": "34c8251a",
   "metadata": {},
   "outputs": [],
   "source": [
    "column_data = table_3rd.find_all('tr')"
   ]
  },
  {
   "cell_type": "code",
   "execution_count": null,
   "id": "e9443552",
   "metadata": {},
   "outputs": [],
   "source": [
    "# Extracting the text from each 'td' tag, striping any whitespace to compile all the rows of the table\n",
    "for row in column_data[1:]:\n",
    "    row_data = row.find_all('td')\n",
    "    individual_rows = [data.text.strip() for data in row_data]\n",
    "    print(individual_rows)"
   ]
  },
  {
   "cell_type": "code",
   "execution_count": null,
   "id": "cfc15dfb",
   "metadata": {},
   "outputs": [],
   "source": [
    "length = len(df)\n",
    "df.loc[length] = individual_rows"
   ]
  },
  {
   "cell_type": "code",
   "execution_count": null,
   "id": "abf4a90a",
   "metadata": {},
   "outputs": [],
   "source": [
    "# Saving the table in csv format - path provided\n",
    "import csv\n",
    "\n",
    "csv_file_path = r'C:\\Users\\14086\\Downloads\\World_Billionaires.csv'\n",
    "\n",
    "# Write the first row using the list world_table_billionaires - titles, add other rows - individual_rows above\n",
    "with open(csv_file_path, mode='w', newline='', encoding='utf-8') as file:\n",
    "    writer = csv.writer(file)\n",
    "    writer.writerow(world_table_billionaires) \n",
    "\n",
    "    for row in column_data[1:]: \n",
    "        row_data = row.find_all('td')\n",
    "        individual_rows = [data.text.strip() for data in row_data]\n",
    "        writer.writerow(individual_rows)\n"
   ]
  },
  {
   "cell_type": "markdown",
   "id": "4b2a7854",
   "metadata": {},
   "source": [
    "# AMAZON - WEBSCRAPING + SELENIUM"
   ]
  },
  {
   "cell_type": "code",
   "execution_count": 16,
   "id": "68249af6",
   "metadata": {},
   "outputs": [
    {
     "name": "stdout",
     "output_type": "stream",
     "text": [
      "Requirement already satisfied: selenium in c:\\users\\14086\\anaconda3\\lib\\site-packages (4.18.1)\n",
      "Requirement already satisfied: chromedriver-autoinstaller in c:\\users\\14086\\anaconda3\\lib\\site-packages (0.6.4)\n",
      "Requirement already satisfied: pandas in c:\\users\\14086\\anaconda3\\lib\\site-packages (1.5.3)\n",
      "Requirement already satisfied: beautifulsoup4 in c:\\users\\14086\\anaconda3\\lib\\site-packages (4.12.2)\n",
      "Requirement already satisfied: urllib3[socks]<3,>=1.26 in c:\\users\\14086\\anaconda3\\lib\\site-packages (from selenium) (1.26.16)\n",
      "Requirement already satisfied: trio~=0.17 in c:\\users\\14086\\anaconda3\\lib\\site-packages (from selenium) (0.25.0)\n",
      "Requirement already satisfied: trio-websocket~=0.9 in c:\\users\\14086\\anaconda3\\lib\\site-packages (from selenium) (0.11.1)\n",
      "Requirement already satisfied: certifi>=2021.10.8 in c:\\users\\14086\\anaconda3\\lib\\site-packages (from selenium) (2023.5.7)\n",
      "Requirement already satisfied: typing_extensions>=4.9.0 in c:\\users\\14086\\anaconda3\\lib\\site-packages (from selenium) (4.10.0)\n",
      "Requirement already satisfied: packaging>=23.1 in c:\\users\\14086\\anaconda3\\lib\\site-packages (from chromedriver-autoinstaller) (24.0)\n",
      "Requirement already satisfied: python-dateutil>=2.8.1 in c:\\users\\14086\\anaconda3\\lib\\site-packages (from pandas) (2.8.2)\n",
      "Requirement already satisfied: pytz>=2020.1 in c:\\users\\14086\\anaconda3\\lib\\site-packages (from pandas) (2022.7)\n",
      "Requirement already satisfied: numpy>=1.21.0 in c:\\users\\14086\\anaconda3\\lib\\site-packages (from pandas) (1.24.3)\n",
      "Requirement already satisfied: soupsieve>1.2 in c:\\users\\14086\\anaconda3\\lib\\site-packages (from beautifulsoup4) (2.4)\n",
      "Requirement already satisfied: six>=1.5 in c:\\users\\14086\\anaconda3\\lib\\site-packages (from python-dateutil>=2.8.1->pandas) (1.16.0)\n",
      "Requirement already satisfied: attrs>=23.2.0 in c:\\users\\14086\\anaconda3\\lib\\site-packages (from trio~=0.17->selenium) (23.2.0)\n",
      "Requirement already satisfied: sortedcontainers in c:\\users\\14086\\anaconda3\\lib\\site-packages (from trio~=0.17->selenium) (2.4.0)\n",
      "Requirement already satisfied: idna in c:\\users\\14086\\anaconda3\\lib\\site-packages (from trio~=0.17->selenium) (3.4)\n",
      "Requirement already satisfied: outcome in c:\\users\\14086\\anaconda3\\lib\\site-packages (from trio~=0.17->selenium) (1.3.0.post0)\n",
      "Requirement already satisfied: sniffio>=1.3.0 in c:\\users\\14086\\anaconda3\\lib\\site-packages (from trio~=0.17->selenium) (1.3.1)\n",
      "Requirement already satisfied: cffi>=1.14 in c:\\users\\14086\\anaconda3\\lib\\site-packages (from trio~=0.17->selenium) (1.15.1)\n",
      "Requirement already satisfied: wsproto>=0.14 in c:\\users\\14086\\anaconda3\\lib\\site-packages (from trio-websocket~=0.9->selenium) (1.2.0)\n",
      "Requirement already satisfied: PySocks!=1.5.7,<2.0,>=1.5.6 in c:\\users\\14086\\anaconda3\\lib\\site-packages (from urllib3[socks]<3,>=1.26->selenium) (1.7.1)\n",
      "Requirement already satisfied: pycparser in c:\\users\\14086\\anaconda3\\lib\\site-packages (from cffi>=1.14->trio~=0.17->selenium) (2.21)\n",
      "Requirement already satisfied: h11<1,>=0.9.0 in c:\\users\\14086\\anaconda3\\lib\\site-packages (from wsproto>=0.14->trio-websocket~=0.9->selenium) (0.14.0)\n"
     ]
    }
   ],
   "source": [
    "# Installing packages - selenium - automating web browser interaction,pandas - data manipulation, beautiful soup - parsing HTML content\n",
    "!pip install selenium chromedriver-autoinstaller pandas beautifulsoup4\n",
    "\n",
    "# Importing required libraries\n",
    "import time\n",
    "import pandas as pd\n",
    "from bs4 import BeautifulSoup\n",
    "from selenium import webdriver\n",
    "import chromedriver_autoinstaller\n",
    "from IPython.display import display\n",
    "\n",
    "# Automatically checks for the ChromeDriver version and installs it if not present or outdated.\n",
    "chromedriver_autoinstaller.install()\n",
    "\n",
    "# Chrome options - Webdriver for faster and smoother execution of tasks - based on tips \n",
    "chrome_options = webdriver.ChromeOptions()\n",
    "chrome_options.add_argument('--headless') \n",
    "chrome_options.add_argument('--no-sandbox') \n",
    "chrome_options.add_argument('--disable-dev-shm-usage') "
   ]
  },
  {
   "cell_type": "code",
   "execution_count": 17,
   "id": "fec35bc4-c7b7-4f27-8888-a088027e9c42",
   "metadata": {},
   "outputs": [],
   "source": [
    "# This function is created to format a search term into an Amazon search URL by replacing spaces with plus signs\n",
    "def get_url(search_term):\n",
    "    search_term = search_term.replace(' ', '+')\n",
    "    return f\"https://www.amazon.com/s?k={search_term}\""
   ]
  },
  {
   "cell_type": "code",
   "execution_count": 18,
   "id": "62bac28c",
   "metadata": {},
   "outputs": [
    {
     "name": "stdout",
     "output_type": "stream",
     "text": [
      "https://www.amazon.com/s?k=monitor\n"
     ]
    }
   ],
   "source": [
    "# We have set search_term as 'monitor', to create an Amazon search URL\n",
    "search_term = 'monitor'\n",
    "url = get_url(search_term)\n",
    "print(url)"
   ]
  },
  {
   "cell_type": "code",
   "execution_count": 19,
   "id": "6944acec",
   "metadata": {},
   "outputs": [
    {
     "name": "stdout",
     "output_type": "stream",
     "text": [
      "0\n"
     ]
    }
   ],
   "source": [
    "# Initialize Selenium WebDriver which navigates to the specified web page\n",
    "driver = webdriver.Chrome()\n",
    "driver.get(url)\n",
    "\n",
    "# Reading The HTML website and finding all product listings in the Amazon search results for monitor\n",
    "soup = BeautifulSoup(driver.page_source, 'html.parser')\n",
    "results = soup.find_all('div', {'data-component-type': 's-search-result'})\n",
    "\n",
    "# Printing the no. of search results found\n",
    "print(len(results))"
   ]
  },
  {
   "cell_type": "code",
   "execution_count": 20,
   "id": "2e3e6741",
   "metadata": {},
   "outputs": [],
   "source": [
    "import re\n",
    "from bs4 import BeautifulSoup\n",
    "\n",
    "# The extract_record function parses each Amazon product listing and extracts key details\n",
    "\n",
    "def extract_record(item):\n",
    "    # Extracting Description -  an <h2> tag that contains an <a> tag\n",
    "    description = item.h2.a.text.strip()\n",
    "\n",
    "    # Extracting URL - finds the href attribute of the same <a> tag\n",
    "    url = \"https://www.amazon.com\" + item.h2.a.get('href')\n",
    "\n",
    "    # Extracting Price - finds the whole number part of the price within a span element and the fractional part within a span with the class a-price-fraction\n",
    "    # item.find(name, attrs) function - name - name of the tag, attrs - eg, class, id\n",
    "    price = item.find('span', 'a-price-whole')\n",
    "    price_fraction = item.find('span', 'a-price-fraction')\n",
    "    if price and price_fraction:\n",
    "        price_whole = price.text.strip().replace(',', '')\n",
    "        # Check if price whole already contains a decimal\n",
    "        if '.' in price_whole:\n",
    "            price = price_whole + price_fraction.text.strip()\n",
    "        else:\n",
    "            price = price_whole + '.' + price_fraction.text.strip()\n",
    "    else:\n",
    "        price = ''\n",
    "\n",
    "    # Extracting Ratings - <i> element with a class of a-icon-star-small is rating\n",
    "    rating = item.find('i', {'class': 'a-icon-star-small'}) or ''\n",
    "    if rating:\n",
    "        rating = rating.text.strip()\n",
    "\n",
    "    # Extracting Review Counts - a span with the class a-size-base\n",
    "    review_count = item.find('span', {'class': 'a-size-base'}) or ''\n",
    "    if review_count:\n",
    "        review_count = review_count.text.strip()\n",
    "\n",
    "    # Extracting Display Size - all span elements with the class a-text-bold for a text containing 'inches'\n",
    "    display_size = ''\n",
    "    features = item.find_all('span', {'class': 'a-text-bold'})\n",
    "    for feature in features:\n",
    "        if 'inches' in feature.text:\n",
    "            display_size = feature.text.strip()\n",
    "            break \n",
    "\n",
    "    # Extract Resolution - all span elements with the class a-text-bold\n",
    "    resolution = ''\n",
    "    features = item.find_all('span', {'class': 'a-text-bold'})\n",
    "    for feature in features:\n",
    "        # a pattern for resolution (numbers (one or more digits (\\d+)) followed by 'p')\n",
    "        if re.search(r'\\d+p', feature.text):\n",
    "            resolution = feature.text.strip()\n",
    "            break \n",
    "\n",
    "    # Return extracted details as a dictionary\n",
    "    return {\n",
    "        'Description': description,\n",
    "        'Price(USD)': price,\n",
    "        'Rating': rating,\n",
    "        'Review Count': review_count,\n",
    "        'Display Size': display_size,\n",
    "        'Resolution': resolution,\n",
    "        'Url of the Product': url\n",
    "    }\n"
   ]
  },
  {
   "cell_type": "code",
   "execution_count": 21,
   "id": "b4d4842c-f1d9-4d1d-92a7-5b2fbb7d78e8",
   "metadata": {},
   "outputs": [],
   "source": [
    "# Main function to search a query  - opens Chrome via Selenium, navigates to the search results, parses the page with BeautifulSoup to find products, and extracts details with extract_record\n",
    "def search_query(search_term):\n",
    "    driver = webdriver.Chrome(options=chrome_options)\n",
    "    records = []\n",
    "    url = get_url(search_term)\n",
    "\n",
    "    driver.get(url)\n",
    "    soup = BeautifulSoup(driver.page_source, 'html.parser')\n",
    "    results = soup.find_all('div', {'data-component-type': 's-search-result'})\n",
    "\n",
    "    for item in results:\n",
    "        record = extract_record(item)\n",
    "        if record:\n",
    "            records.append(record)\n",
    "\n",
    "    driver.close()\n",
    "    \n",
    "    # Found records are saved in a dataFrame, exported to CSV\n",
    "    if records:\n",
    "        df = pd.DataFrame(records)\n",
    "        filename = f\"{search_term.replace(' ', '_')}.csv\"\n",
    "        df.to_csv(filename, index=False)\n",
    "        print(f\"Data saved to {filename}\")\n",
    "        display(df) # Displaying the results\n",
    "    else:\n",
    "        print(\"No records found.\")\n"
   ]
  },
  {
   "cell_type": "code",
   "execution_count": 22,
   "id": "7e3434ad-5fba-4d0d-bba5-45f11aee39f7",
   "metadata": {},
   "outputs": [
    {
     "name": "stdout",
     "output_type": "stream",
     "text": [
      "Data saved to Monitor.csv\n"
     ]
    },
    {
     "data": {
      "text/html": [
       "<div>\n",
       "<style scoped>\n",
       "    .dataframe tbody tr th:only-of-type {\n",
       "        vertical-align: middle;\n",
       "    }\n",
       "\n",
       "    .dataframe tbody tr th {\n",
       "        vertical-align: top;\n",
       "    }\n",
       "\n",
       "    .dataframe thead th {\n",
       "        text-align: right;\n",
       "    }\n",
       "</style>\n",
       "<table border=\"1\" class=\"dataframe\">\n",
       "  <thead>\n",
       "    <tr style=\"text-align: right;\">\n",
       "      <th></th>\n",
       "      <th>Description</th>\n",
       "      <th>Price(USD)</th>\n",
       "      <th>Rating</th>\n",
       "      <th>Review Count</th>\n",
       "      <th>Display Size</th>\n",
       "      <th>Resolution</th>\n",
       "      <th>Url of the Product</th>\n",
       "    </tr>\n",
       "  </thead>\n",
       "  <tbody>\n",
       "    <tr>\n",
       "      <th>0</th>\n",
       "      <td>LG 22MR410-B 22-inch FHD Computer Monitor, 100...</td>\n",
       "      <td>69.99</td>\n",
       "      <td>4.5 out of 5 stars</td>\n",
       "      <td>Amazon's Choice: Overall Pick</td>\n",
       "      <td></td>\n",
       "      <td>FHD 1080p</td>\n",
       "      <td>https://www.amazon.com/LG-22MR410-B-Computer-B...</td>\n",
       "    </tr>\n",
       "    <tr>\n",
       "      <th>1</th>\n",
       "      <td>PHILIPS 22 inch Class Thin Full HD (1920 x 108...</td>\n",
       "      <td>69.99</td>\n",
       "      <td>4.6 out of 5 stars</td>\n",
       "      <td>2,987</td>\n",
       "      <td>21.5 inches</td>\n",
       "      <td>FHD 1080p</td>\n",
       "      <td>https://www.amazon.com/PHILIPS-Computer-Monito...</td>\n",
       "    </tr>\n",
       "    <tr>\n",
       "      <th>2</th>\n",
       "      <td>Sceptre New 27-inch Gaming Monitor 100Hz 1ms D...</td>\n",
       "      <td>109.97</td>\n",
       "      <td>4.6 out of 5 stars</td>\n",
       "      <td>Amazon's Choice: Popular Brand Pick</td>\n",
       "      <td>27 inches</td>\n",
       "      <td>FHD 1080p</td>\n",
       "      <td>https://www.amazon.com/Sceptre-DisplayPort-Fre...</td>\n",
       "    </tr>\n",
       "    <tr>\n",
       "      <th>3</th>\n",
       "      <td>Portable-Monitor-for-Laptop - 15.6'' 1080P FHD...</td>\n",
       "      <td>72.15</td>\n",
       "      <td>4.6 out of 5 stars</td>\n",
       "      <td>2,504</td>\n",
       "      <td>15.6 inches</td>\n",
       "      <td>FHD 1080p</td>\n",
       "      <td>https://www.amazon.com/VILVA-Portable-Monitor-...</td>\n",
       "    </tr>\n",
       "    <tr>\n",
       "      <th>4</th>\n",
       "      <td>Dell S2421HS Full HD 1920 x 1080, 24-Inch 1080...</td>\n",
       "      <td>99.99</td>\n",
       "      <td>4.6 out of 5 stars</td>\n",
       "      <td>1,310</td>\n",
       "      <td>24 inches</td>\n",
       "      <td>FHD 1080p</td>\n",
       "      <td>https://www.amazon.com/Dell-S2421HS-Adjustable...</td>\n",
       "    </tr>\n",
       "    <tr>\n",
       "      <th>5</th>\n",
       "      <td>Sceptre Curved 24-inch Gaming Monitor 1080p R1...</td>\n",
       "      <td>89.97</td>\n",
       "      <td>4.6 out of 5 stars</td>\n",
       "      <td>20,916</td>\n",
       "      <td>24 inches</td>\n",
       "      <td>FHD 1080p</td>\n",
       "      <td>https://www.amazon.com/Sceptre-Curved-Monitor-...</td>\n",
       "    </tr>\n",
       "    <tr>\n",
       "      <th>6</th>\n",
       "      <td>Acer Nitro KG241Y Sbiip 23.8” Full HD (1920 x ...</td>\n",
       "      <td>109.99</td>\n",
       "      <td>4.5 out of 5 stars</td>\n",
       "      <td>5,188</td>\n",
       "      <td>23.8 inches</td>\n",
       "      <td>FHD 1080p</td>\n",
       "      <td>https://www.amazon.com/Acer-Monitor-FreeSync-T...</td>\n",
       "    </tr>\n",
       "    <tr>\n",
       "      <th>7</th>\n",
       "      <td>SANSUI Monitor 24 inch 100Hz PC Monitor, VESA,...</td>\n",
       "      <td>78.98</td>\n",
       "      <td>4.3 out of 5 stars</td>\n",
       "      <td>3,023</td>\n",
       "      <td>24 inches</td>\n",
       "      <td>FHD 1080p</td>\n",
       "      <td>https://www.amazon.com/SANSUI-Monitor-24-Ultra...</td>\n",
       "    </tr>\n",
       "    <tr>\n",
       "      <th>8</th>\n",
       "      <td>Dell SE2722HX Monitor - 27 inch FHD (1920 x 10...</td>\n",
       "      <td>109.99</td>\n",
       "      <td>4.6 out of 5 stars</td>\n",
       "      <td>3,237</td>\n",
       "      <td>27 inches</td>\n",
       "      <td>FHD 1080p</td>\n",
       "      <td>https://www.amazon.com/Dell-inch-Monitor-1920-...</td>\n",
       "    </tr>\n",
       "    <tr>\n",
       "      <th>9</th>\n",
       "      <td>Acer Nitro 31.5\" FHD 1920 x 1080 1500R Curved ...</td>\n",
       "      <td>184.20</td>\n",
       "      <td>4.6 out of 5 stars</td>\n",
       "      <td>1,844</td>\n",
       "      <td>31.5 inches</td>\n",
       "      <td>FHD 1080p</td>\n",
       "      <td>https://www.amazon.com/Monitor-FreeSync-Premiu...</td>\n",
       "    </tr>\n",
       "    <tr>\n",
       "      <th>10</th>\n",
       "      <td>SAMSUNG 24\" Odyssey G32A FHD 1ms 165Hz Gaming ...</td>\n",
       "      <td>129.99</td>\n",
       "      <td>4.6 out of 5 stars</td>\n",
       "      <td>2,577</td>\n",
       "      <td>24 inches</td>\n",
       "      <td>FHD 1080p</td>\n",
       "      <td>https://www.amazon.com/SAMSUNG-Free-Sync-Adjus...</td>\n",
       "    </tr>\n",
       "    <tr>\n",
       "      <th>11</th>\n",
       "      <td>KOORUI 24 inch Full HD 1080p Gaming Monitor 10...</td>\n",
       "      <td>73.79</td>\n",
       "      <td>4.3 out of 5 stars</td>\n",
       "      <td>2,309</td>\n",
       "      <td>24 inches</td>\n",
       "      <td>FHD 1080p</td>\n",
       "      <td>https://www.amazon.com/KOORUI-Mountable-Protec...</td>\n",
       "    </tr>\n",
       "    <tr>\n",
       "      <th>12</th>\n",
       "      <td>SAMSUNG 27\" T35F Series FHD 1080p Computer Mon...</td>\n",
       "      <td>118.25</td>\n",
       "      <td>4.5 out of 5 stars</td>\n",
       "      <td>4,515</td>\n",
       "      <td>27 inches</td>\n",
       "      <td>FHD 1080p</td>\n",
       "      <td>https://www.amazon.com/SAMSUNG-27-inch-Border-...</td>\n",
       "    </tr>\n",
       "    <tr>\n",
       "      <th>13</th>\n",
       "      <td>Thinlerain Portable Monitor - 11.6 inch Dual H...</td>\n",
       "      <td>47.40</td>\n",
       "      <td>3.8 out of 5 stars</td>\n",
       "      <td>89</td>\n",
       "      <td></td>\n",
       "      <td></td>\n",
       "      <td>https://www.amazon.com/Thinlerain-Portable-Mon...</td>\n",
       "    </tr>\n",
       "    <tr>\n",
       "      <th>14</th>\n",
       "      <td>SAMSUNG 27\" CF39 Series FHD 1080p Curved Compu...</td>\n",
       "      <td>169.99</td>\n",
       "      <td>4.6 out of 5 stars</td>\n",
       "      <td>20,623</td>\n",
       "      <td>27 inches</td>\n",
       "      <td>FHD 1080p</td>\n",
       "      <td>https://www.amazon.com/Samsung-LC27F398FWNXZA-...</td>\n",
       "    </tr>\n",
       "    <tr>\n",
       "      <th>15</th>\n",
       "      <td>AOC 24B2H2 24” Frameless IPS Monitor, FHD 1920...</td>\n",
       "      <td>79.99</td>\n",
       "      <td>4.6 out of 5 stars</td>\n",
       "      <td>3,611</td>\n",
       "      <td>23.8 inches</td>\n",
       "      <td>FHD 1080p</td>\n",
       "      <td>https://www.amazon.com/AOC-24B2H2-Frameless-19...</td>\n",
       "    </tr>\n",
       "  </tbody>\n",
       "</table>\n",
       "</div>"
      ],
      "text/plain": [
       "                                          Description Price(USD)  \\\n",
       "0   LG 22MR410-B 22-inch FHD Computer Monitor, 100...      69.99   \n",
       "1   PHILIPS 22 inch Class Thin Full HD (1920 x 108...      69.99   \n",
       "2   Sceptre New 27-inch Gaming Monitor 100Hz 1ms D...     109.97   \n",
       "3   Portable-Monitor-for-Laptop - 15.6'' 1080P FHD...      72.15   \n",
       "4   Dell S2421HS Full HD 1920 x 1080, 24-Inch 1080...      99.99   \n",
       "5   Sceptre Curved 24-inch Gaming Monitor 1080p R1...      89.97   \n",
       "6   Acer Nitro KG241Y Sbiip 23.8” Full HD (1920 x ...     109.99   \n",
       "7   SANSUI Monitor 24 inch 100Hz PC Monitor, VESA,...      78.98   \n",
       "8   Dell SE2722HX Monitor - 27 inch FHD (1920 x 10...     109.99   \n",
       "9   Acer Nitro 31.5\" FHD 1920 x 1080 1500R Curved ...     184.20   \n",
       "10  SAMSUNG 24\" Odyssey G32A FHD 1ms 165Hz Gaming ...     129.99   \n",
       "11  KOORUI 24 inch Full HD 1080p Gaming Monitor 10...      73.79   \n",
       "12  SAMSUNG 27\" T35F Series FHD 1080p Computer Mon...     118.25   \n",
       "13  Thinlerain Portable Monitor - 11.6 inch Dual H...      47.40   \n",
       "14  SAMSUNG 27\" CF39 Series FHD 1080p Curved Compu...     169.99   \n",
       "15  AOC 24B2H2 24” Frameless IPS Monitor, FHD 1920...      79.99   \n",
       "\n",
       "                Rating                         Review Count Display Size  \\\n",
       "0   4.5 out of 5 stars        Amazon's Choice: Overall Pick                \n",
       "1   4.6 out of 5 stars                                2,987  21.5 inches   \n",
       "2   4.6 out of 5 stars  Amazon's Choice: Popular Brand Pick    27 inches   \n",
       "3   4.6 out of 5 stars                                2,504  15.6 inches   \n",
       "4   4.6 out of 5 stars                                1,310    24 inches   \n",
       "5   4.6 out of 5 stars                               20,916    24 inches   \n",
       "6   4.5 out of 5 stars                                5,188  23.8 inches   \n",
       "7   4.3 out of 5 stars                                3,023    24 inches   \n",
       "8   4.6 out of 5 stars                                3,237    27 inches   \n",
       "9   4.6 out of 5 stars                                1,844  31.5 inches   \n",
       "10  4.6 out of 5 stars                                2,577    24 inches   \n",
       "11  4.3 out of 5 stars                                2,309    24 inches   \n",
       "12  4.5 out of 5 stars                                4,515    27 inches   \n",
       "13  3.8 out of 5 stars                                   89                \n",
       "14  4.6 out of 5 stars                               20,623    27 inches   \n",
       "15  4.6 out of 5 stars                                3,611  23.8 inches   \n",
       "\n",
       "   Resolution                                 Url of the Product  \n",
       "0   FHD 1080p  https://www.amazon.com/LG-22MR410-B-Computer-B...  \n",
       "1   FHD 1080p  https://www.amazon.com/PHILIPS-Computer-Monito...  \n",
       "2   FHD 1080p  https://www.amazon.com/Sceptre-DisplayPort-Fre...  \n",
       "3   FHD 1080p  https://www.amazon.com/VILVA-Portable-Monitor-...  \n",
       "4   FHD 1080p  https://www.amazon.com/Dell-S2421HS-Adjustable...  \n",
       "5   FHD 1080p  https://www.amazon.com/Sceptre-Curved-Monitor-...  \n",
       "6   FHD 1080p  https://www.amazon.com/Acer-Monitor-FreeSync-T...  \n",
       "7   FHD 1080p  https://www.amazon.com/SANSUI-Monitor-24-Ultra...  \n",
       "8   FHD 1080p  https://www.amazon.com/Dell-inch-Monitor-1920-...  \n",
       "9   FHD 1080p  https://www.amazon.com/Monitor-FreeSync-Premiu...  \n",
       "10  FHD 1080p  https://www.amazon.com/SAMSUNG-Free-Sync-Adjus...  \n",
       "11  FHD 1080p  https://www.amazon.com/KOORUI-Mountable-Protec...  \n",
       "12  FHD 1080p  https://www.amazon.com/SAMSUNG-27-inch-Border-...  \n",
       "13             https://www.amazon.com/Thinlerain-Portable-Mon...  \n",
       "14  FHD 1080p  https://www.amazon.com/Samsung-LC27F398FWNXZA-...  \n",
       "15  FHD 1080p  https://www.amazon.com/AOC-24B2H2-Frameless-19...  "
      ]
     },
     "metadata": {},
     "output_type": "display_data"
    }
   ],
   "source": [
    "search_query('Monitor')"
   ]
  },
  {
   "cell_type": "code",
   "execution_count": null,
   "id": "37913b47",
   "metadata": {},
   "outputs": [],
   "source": []
  },
  {
   "cell_type": "code",
   "execution_count": null,
   "id": "9a3b9d36",
   "metadata": {},
   "outputs": [],
   "source": []
  }
 ],
 "metadata": {
  "kernelspec": {
   "display_name": "Python 3 (ipykernel)",
   "language": "python",
   "name": "python3"
  },
  "language_info": {
   "codemirror_mode": {
    "name": "ipython",
    "version": 3
   },
   "file_extension": ".py",
   "mimetype": "text/x-python",
   "name": "python",
   "nbconvert_exporter": "python",
   "pygments_lexer": "ipython3",
   "version": "3.11.3"
  }
 },
 "nbformat": 4,
 "nbformat_minor": 5
}
